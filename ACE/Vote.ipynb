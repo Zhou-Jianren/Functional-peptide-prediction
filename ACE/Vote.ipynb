{
 "cells": [
  {
   "cell_type": "code",
   "execution_count": 1,
   "metadata": {},
   "outputs": [],
   "source": [
    "# Current directory\n",
    "import os\n",
    "os.chdir('F:/Work/Experiment/pLM4ACE/model')"
   ]
  },
  {
   "cell_type": "markdown",
   "metadata": {},
   "source": [
    "### Fusion models"
   ]
  },
  {
   "cell_type": "code",
   "execution_count": 2,
   "metadata": {},
   "outputs": [
    {
     "name": "stdout",
     "output_type": "stream",
     "text": [
      "(1020, 320)\n",
      "(1020, 1)\n",
      "394\n",
      "626\n"
     ]
    }
   ],
   "source": [
    "import numpy as np\n",
    "import pandas as pd\n",
    "\n",
    "\n",
    "features = pd.read_csv(\"fusion_features/Data/single/ESM.csv\", index_col=0, header=None)\n",
    "labels = pd.read_csv(\"fusion_features/Data/label.csv\", index_col=False, header=None)\n",
    "\n",
    "print(features.shape)\n",
    "print(labels.shape)\n",
    "print(np.count_nonzero(labels==0))\n",
    "print(np.count_nonzero(labels==1))\n",
    "\n",
    "feature = np.array(features)\n",
    "label = np.array(labels)"
   ]
  },
  {
   "cell_type": "code",
   "execution_count": 3,
   "metadata": {},
   "outputs": [
    {
     "name": "stdout",
     "output_type": "stream",
     "text": [
      "WARNING:tensorflow:Layer gru will not use cuDNN kernels since it doesn't meet the criteria. It will use a generic GPU kernel as fallback when running on GPU.\n",
      "WARNING:tensorflow:Layer gru_1 will not use cuDNN kernels since it doesn't meet the criteria. It will use a generic GPU kernel as fallback when running on GPU.\n",
      "Model for fold 0 loaded from save_models/GRU/Independence\\ESM_0.h5\n",
      "WARNING:tensorflow:Layer gru_2 will not use cuDNN kernels since it doesn't meet the criteria. It will use a generic GPU kernel as fallback when running on GPU.\n",
      "WARNING:tensorflow:Layer gru_3 will not use cuDNN kernels since it doesn't meet the criteria. It will use a generic GPU kernel as fallback when running on GPU.\n",
      "Model for fold 1 loaded from save_models/GRU/Independence\\ESM_1.h5\n",
      "WARNING:tensorflow:Layer gru_4 will not use cuDNN kernels since it doesn't meet the criteria. It will use a generic GPU kernel as fallback when running on GPU.\n",
      "WARNING:tensorflow:Layer gru_5 will not use cuDNN kernels since it doesn't meet the criteria. It will use a generic GPU kernel as fallback when running on GPU.\n",
      "Model for fold 2 loaded from save_models/GRU/Independence\\ESM_2.h5\n",
      "WARNING:tensorflow:Layer gru_6 will not use cuDNN kernels since it doesn't meet the criteria. It will use a generic GPU kernel as fallback when running on GPU.\n",
      "WARNING:tensorflow:Layer gru_7 will not use cuDNN kernels since it doesn't meet the criteria. It will use a generic GPU kernel as fallback when running on GPU.\n",
      "Model for fold 3 loaded from save_models/GRU/Independence\\ESM_3.h5\n",
      "WARNING:tensorflow:Layer gru_8 will not use cuDNN kernels since it doesn't meet the criteria. It will use a generic GPU kernel as fallback when running on GPU.\n",
      "WARNING:tensorflow:Layer gru_9 will not use cuDNN kernels since it doesn't meet the criteria. It will use a generic GPU kernel as fallback when running on GPU.\n",
      "Model for fold 4 loaded from save_models/GRU/Independence\\ESM_4.h5\n",
      "WARNING:tensorflow:Layer gru_10 will not use cuDNN kernels since it doesn't meet the criteria. It will use a generic GPU kernel as fallback when running on GPU.\n",
      "WARNING:tensorflow:Layer gru_11 will not use cuDNN kernels since it doesn't meet the criteria. It will use a generic GPU kernel as fallback when running on GPU.\n",
      "Model for fold 5 loaded from save_models/GRU/Independence\\ESM_5.h5\n",
      "Model for fold 6 loaded from save_models/CNN/Independence\\ESM_6.h5\n",
      "Model for fold 7 loaded from save_models/CNN/Independence\\ESM_7.h5\n",
      "Model for fold 8 loaded from save_models/CNN/Independence\\ESM_8.h5\n",
      "Model for fold 9 loaded from save_models/CapsuleGAN/Independence\\ESM_9.h5\n",
      "BACC: 0.926\n",
      "Sn: 0.96\n",
      "Sp: 0.891\n",
      "MCC: 0.831\n",
      "AUC: 0.966\n",
      "AP: 0.975\n"
     ]
    }
   ],
   "source": [
    "import math\n",
    "import joblib\n",
    "import numpy as np\n",
    "from tensorflow.keras.models import load_model\n",
    "from sklearn.metrics import precision_recall_curve\n",
    "from sklearn.metrics import average_precision_score\n",
    "from sklearn.model_selection import train_test_split\n",
    "from sklearn.metrics import confusion_matrix, roc_curve, auc\n",
    "\n",
    "\n",
    "# Create a directory to save the model\n",
    "model_GRU_dir = 'save_models/GRU/Independence'\n",
    "model_CNN_dir = 'save_models/CNN/Independence'\n",
    "model_CapsuleGAN_dir = 'save_models/CapsuleGAN/Independence'\n",
    "model_LR_dir = 'save_models/LR/Independence'\n",
    "\n",
    "y = label\n",
    "out_dim=2\n",
    "\n",
    "BACC_collecton = []\n",
    "Sn_collecton = []\n",
    "Sp_collecton = []\n",
    "MCC_collecton = []\n",
    "AUC_collecton = []\n",
    "AP=[]\n",
    "\n",
    "all_predictions = []\n",
    "for i in range(10):\n",
    "    # Loading model\n",
    "    if i in (0, 1, 2, 3, 4, 5):\n",
    "        [sample_num, input_dim] = np.shape(feature)\n",
    "        X = np.reshape(feature, (-1,1,input_dim))\n",
    "        _, X_ind_test, _, y_ind_test = train_test_split(X, y, test_size=0.2, random_state=1111)\n",
    "\n",
    "        model_path = os.path.join(model_GRU_dir, f'ESM_{i}.h5')\n",
    "        clf = load_model(model_path)\n",
    "        y_score = clf.predict(X_ind_test)\n",
    "        print(f'Model for fold {i} loaded from {model_path}')\n",
    "    elif i in (6, 7, 8):\n",
    "        [sample_num, input_dim] = np.shape(feature)\n",
    "        X = np.reshape(feature, (-1,1,input_dim))\n",
    "        _, X_ind_test, _, y_ind_test = train_test_split(X, y, test_size=0.2, random_state=1111)\n",
    "\n",
    "        model_path = os.path.join(model_CNN_dir, f'ESM_{i}.h5')\n",
    "        clf = load_model(model_path)\n",
    "        y_score = clf.predict(X_ind_test)\n",
    "        print(f'Model for fold {i} loaded from {model_path}')\n",
    "    # elif i == 9:\n",
    "    #     _, X_ind_test, _, y_ind_test = train_test_split(feature, y, test_size=0.2, random_state=1111)\n",
    "    #     model_path = os.path.join(model_LR_dir, f'ESM.joblib')\n",
    "    #     clf = joblib.load(model_path)\n",
    "    #     y_score = clf.predict_proba(X_ind_test)\n",
    "    #     print(f'Model for fold {i} loaded from {model_path}')\n",
    "    else:\n",
    "        X = feature\n",
    "        _, X_ind_test, _, y_ind_test = train_test_split(X, y, test_size=0.2, random_state=1111)\n",
    "\n",
    "        model_path = os.path.join(model_CapsuleGAN_dir, f'ESM_{i}.h5')\n",
    "        clf = load_model(model_path)\n",
    "        y_score = clf.predict(X_ind_test)\n",
    "        print(f'Model for fold {i} loaded from {model_path}')\n",
    "\n",
    "    # y_score = clf.predict(X_ind_test)\n",
    "    all_predictions.append(y_score)\n",
    "\n",
    "\n",
    "# 转换为 numpy 数组\n",
    "all_predictions = np.array(all_predictions)\n",
    "\n",
    "# 平均投票\n",
    "average_predictions = np.mean(all_predictions, axis=0)\n",
    "final_predictions = np.argmax(average_predictions, axis=1)\n",
    "\n",
    "TP, FP, FN, TN = confusion_matrix(y_ind_test, final_predictions).ravel() # shape [ [True-Positive, False-positive], [False-negative, True-negative] ]\n",
    "Sn_collecton = TP/(TP+FN)\n",
    "Sp_collecton = TN/(TN+FP)\n",
    "MCC = (TP*TN-FP*FN)/math.pow(((TP+FP)*(TP+FN)*(TN+FP)*(TN+FN)),0.5)\n",
    "MCC_collecton = MCC\n",
    "BACC_collecton = 0.5*TP/(TP+FN)+0.5*TN/(TN+FP)\n",
    "# ROC curve\n",
    "fpr, tpr, _ = roc_curve(y_ind_test, average_predictions[:, 1])\n",
    "auc_roc = auc(fpr, tpr)\n",
    "AUC_collecton = auc_roc\n",
    "# PR curve\n",
    "precision, recall, _ = precision_recall_curve(y_ind_test, average_predictions[:, 1])\n",
    "average_precision = average_precision_score(y_ind_test, average_predictions[:, 1])\n",
    "AP = average_precision\n",
    "\n",
    "# Output\n",
    "results = [\n",
    "    f\"BACC: {round(BACC_collecton, 3)}\",\n",
    "    f\"Sn: {round(Sn_collecton, 3)}\",\n",
    "    f\"Sp: {round(Sp_collecton, 3)}\",\n",
    "    f\"MCC: {round(MCC_collecton, 3)}\",\n",
    "    f\"AUC: {round(AUC_collecton, 3)}\",\n",
    "    f\"AP: {round(AP, 3)}\"\n",
    "]\n",
    "\n",
    "for result in results:\n",
    "    print(result)\n",
    "\n",
    "# Append the results to the file\n",
    "with open('result/results_Vote.txt', 'a') as file:\n",
    "    file.write(\"----------------------------------------\\n\")\n",
    "    for result in results:\n",
    "        file.write(result + '\\n')\n"
   ]
  },
  {
   "cell_type": "code",
   "execution_count": 6,
   "metadata": {},
   "outputs": [],
   "source": [
    "# 保存ROC曲线相关参数\n",
    "np.savez('graph/ACE/ROC/Vote.npz', fpr=fpr, tpr=tpr, roc_auc=AUC_collecton)\n",
    "\n",
    "# 保存PR曲线相关参数\n",
    "np.savez('graph/ACE/PR/Vote.npz', recall=recall, precision=precision, average_precision=AP)"
   ]
  },
  {
   "cell_type": "markdown",
   "metadata": {},
   "source": [
    "### end"
   ]
  }
 ],
 "metadata": {
  "kernelspec": {
   "display_name": "tensorflow",
   "language": "python",
   "name": "python3"
  },
  "language_info": {
   "codemirror_mode": {
    "name": "ipython",
    "version": 3
   },
   "file_extension": ".py",
   "mimetype": "text/x-python",
   "name": "python",
   "nbconvert_exporter": "python",
   "pygments_lexer": "ipython3",
   "version": "3.9.18"
  }
 },
 "nbformat": 4,
 "nbformat_minor": 2
}
