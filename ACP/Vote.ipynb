{
 "cells": [
  {
   "cell_type": "code",
   "execution_count": 1,
   "metadata": {},
   "outputs": [],
   "source": [
    "# Current directory\n",
    "import os\n",
    "os.chdir('F:/One/ACP')"
   ]
  },
  {
   "cell_type": "markdown",
   "metadata": {},
   "source": [
    "### Fusion models"
   ]
  },
  {
   "cell_type": "code",
   "execution_count": 2,
   "metadata": {},
   "outputs": [
    {
     "name": "stdout",
     "output_type": "stream",
     "text": [
      "train_features: (1378, 320)\n",
      "train_labels (1378, 1)\n",
      "test_features (344, 320)\n",
      "test_labels (344, 1)\n"
     ]
    }
   ],
   "source": [
    "import numpy as np\n",
    "import pandas as pd\n",
    "\n",
    "\n",
    "# train\n",
    "train_features = pd.read_csv(\"features_label/train.csv\", index_col=False, header=None)\n",
    "train_labels = pd.read_csv(\"features_label/train_label.csv\", index_col=False, header=None)\n",
    "# test\n",
    "test_features = pd.read_csv(\"features_label/test.csv\", index_col=False, header=None)\n",
    "test_labels = pd.read_csv(\"features_label/test_label.csv\", index_col=False, header=None)\n",
    "\n",
    "print('train_features:', train_features.shape)\n",
    "print('train_labels', train_labels.shape)\n",
    "print('test_features', test_features.shape)\n",
    "print('test_labels', test_labels.shape)\n",
    "\n",
    "\n",
    "train_features = np.array(train_features)\n",
    "train_labels = np.array(train_labels)\n",
    "test_features = np.array(test_features)\n",
    "test_labels = np.array(test_labels)\n"
   ]
  },
  {
   "cell_type": "code",
   "execution_count": 4,
   "metadata": {},
   "outputs": [
    {
     "name": "stdout",
     "output_type": "stream",
     "text": [
      "WARNING:tensorflow:Layer gru_80 will not use cuDNN kernels since it doesn't meet the criteria. It will use a generic GPU kernel as fallback when running on GPU.\n"
     ]
    },
    {
     "name": "stdout",
     "output_type": "stream",
     "text": [
      "WARNING:tensorflow:Layer gru_81 will not use cuDNN kernels since it doesn't meet the criteria. It will use a generic GPU kernel as fallback when running on GPU.\n",
      "Model for fold 0 loaded from save_models/GRU/Independence\\ESM_0.h5\n",
      "Model for fold 1 loaded from save_models/CNN/Independence\\ESM_1.h5\n",
      "Model for fold 2 loaded from save_models/CNN/Independence\\ESM_2.h5\n",
      "Model for fold 3 loaded from save_models/CNN/Independence\\ESM_3.h5\n",
      "Model for fold 4 loaded from save_models/CNN/Independence\\ESM_4.h5\n",
      "Model for fold 5 loaded from save_models/CNN/Independence\\ESM_5.h5\n",
      "Model for fold 6 loaded from save_models/CNN/Independence\\ESM_6.h5\n",
      "Model for fold 7 loaded from save_models/CNN/Independence\\ESM_7.h5\n",
      "Model for fold 8 loaded from save_models/CapsuleGAN/Independence\\ESM_8.h5\n",
      "Model for fold 9 loaded from save_models/CapsuleGAN/Independence\\ESM_9.h5\n",
      "ACC: 0.779\n",
      "BACC: 0.779\n",
      "Sn: 0.786\n",
      "Sp: 0.773\n",
      "MCC: 0.558\n",
      "AUC: 0.833\n",
      "AP: 0.852\n"
     ]
    }
   ],
   "source": [
    "import math\n",
    "import numpy as np\n",
    "from tensorflow.keras.models import load_model\n",
    "from sklearn.metrics import precision_recall_curve\n",
    "from sklearn.metrics import average_precision_score\n",
    "from sklearn.model_selection import train_test_split\n",
    "from sklearn.metrics import confusion_matrix, roc_curve, auc\n",
    "\n",
    "\n",
    "# Create a directory to save the model\n",
    "model_GRU_dir = 'save_models/GRU/Independence'\n",
    "model_CNN_dir = 'save_models/CNN/Independence'\n",
    "model_CapsuleGAN_dir = 'save_models/CapsuleGAN/Independence'\n",
    "\n",
    "[sample_num, input_dim] = np.shape(train_features)\n",
    "y_train = train_labels\n",
    "y_test = test_labels\n",
    "out_dim=2\n",
    "\n",
    "ACC_collecton = []\n",
    "BACC_collecton = []\n",
    "Sn_collecton = []\n",
    "Sp_collecton = []\n",
    "MCC_collecton = []\n",
    "AUC_collecton = []\n",
    "AP=[]\n",
    "\n",
    "all_predictions = []\n",
    "for i in range(10):\n",
    "    # Loading model\n",
    "    if i == 0:\n",
    "        X_train = np.reshape(train_features, (-1,1,input_dim))\n",
    "        X_test = np.reshape(test_features, (-1,1,input_dim))\n",
    "\n",
    "        model_path = os.path.join(model_GRU_dir, f'ESM_{i}.h5')\n",
    "        clf = load_model(model_path)\n",
    "        print(f'Model for fold {i} loaded from {model_path}')\n",
    "    elif i in (1, 2, 3, 4, 5, 6, 7):\n",
    "        X_train = np.reshape(train_features, (-1,1,input_dim))\n",
    "        X_test = np.reshape(test_features, (-1,1,input_dim))\n",
    "\n",
    "        model_path = os.path.join(model_CNN_dir, f'ESM_{i}.h5')\n",
    "        clf = load_model(model_path)\n",
    "        print(f'Model for fold {i} loaded from {model_path}')\n",
    "    else:\n",
    "        X_train = train_features\n",
    "        X_test = test_features\n",
    "\n",
    "        model_path = os.path.join(model_CapsuleGAN_dir, f'ESM_{i}.h5')\n",
    "        clf = load_model(model_path)\n",
    "        print(f'Model for fold {i} loaded from {model_path}')\n",
    "\n",
    "    y_score = clf.predict(X_test)\n",
    "    all_predictions.append(y_score)\n",
    "\n",
    "\n",
    "# 转换为 numpy 数组\n",
    "all_predictions = np.array(all_predictions)\n",
    "\n",
    "# 平均投票\n",
    "average_predictions = np.mean(all_predictions, axis=0)\n",
    "final_predictions = np.argmax(average_predictions, axis=1)\n",
    "\n",
    "TP, FP, FN, TN = confusion_matrix(y_test, final_predictions).ravel() # shape [ [True-Positive, False-positive], [False-negative, True-negative] ]\n",
    "Sn_collecton = TP/(TP+FN)\n",
    "Sp_collecton = TN/(TN+FP)\n",
    "MCC = (TP*TN-FP*FN)/math.pow(((TP+FP)*(TP+FN)*(TN+FP)*(TN+FN)),0.5)\n",
    "MCC_collecton = MCC\n",
    "BACC_collecton = 0.5*TP/(TP+FN)+0.5*TN/(TN+FP)\n",
    "ACC = (TP+TN)/(TP+TN+FP+FN)\n",
    "ACC_collecton = ACC\n",
    "# ROC curve\n",
    "fpr, tpr, _ = roc_curve(y_test, average_predictions[:, 1])\n",
    "auc_roc = auc(fpr, tpr)\n",
    "AUC_collecton = auc_roc\n",
    "# PR curve\n",
    "precision, recall, _ = precision_recall_curve(y_test, average_predictions[:, 1])\n",
    "average_precision = average_precision_score(y_test, average_predictions[:, 1])\n",
    "AP = average_precision\n",
    "\n",
    "\n",
    "# Output\n",
    "results = [\n",
    "    f\"ACC: {round(ACC_collecton, 3)}\",\n",
    "    f\"BACC: {round(BACC_collecton, 3)}\",\n",
    "    f\"Sn: {round(Sn_collecton, 3)}\",\n",
    "    f\"Sp: {round(Sp_collecton, 3)}\",\n",
    "    f\"MCC: {round(MCC_collecton, 3)}\",\n",
    "    f\"AUC: {round(AUC_collecton, 3)}\",\n",
    "    f\"AP: {round(AP, 3)}\"\n",
    "]\n",
    "\n",
    "for result in results:\n",
    "    print(result)\n",
    "\n",
    "# Append the results to the file\n",
    "with open('result/results_Vote.txt', 'a') as file:\n",
    "    file.write(\"----------------------------------------\\n\")\n",
    "    for result in results:\n",
    "        file.write(result + '\\n')\n"
   ]
  },
  {
   "cell_type": "code",
   "execution_count": 5,
   "metadata": {},
   "outputs": [],
   "source": [
    "# 保存ROC曲线相关参数\n",
    "np.savez('graph/ROC/Vote.npz', fpr=fpr, tpr=tpr, roc_auc=AUC_collecton)\n",
    "\n",
    "# 保存PR曲线相关参数\n",
    "np.savez('graph/PR/Vote.npz', recall=recall, precision=precision, average_precision=AP)"
   ]
  },
  {
   "cell_type": "markdown",
   "metadata": {},
   "source": [
    "### end"
   ]
  }
 ],
 "metadata": {
  "kernelspec": {
   "display_name": "tensorflow",
   "language": "python",
   "name": "python3"
  },
  "language_info": {
   "codemirror_mode": {
    "name": "ipython",
    "version": 3
   },
   "file_extension": ".py",
   "mimetype": "text/x-python",
   "name": "python",
   "nbconvert_exporter": "python",
   "pygments_lexer": "ipython3",
   "version": "3.9.18"
  }
 },
 "nbformat": 4,
 "nbformat_minor": 2
}
